{
 "cells": [
  {
   "cell_type": "code",
   "execution_count": 15,
   "metadata": {},
   "outputs": [
    {
     "name": "stdout",
     "output_type": "stream",
     "text": [
      "Requirement already satisfied: pandas in c:\\users\\pasca\\onedrive\\desktop\\paccydem\\lp1_indian_startup_ecosystem\\environmnt\\lib\\site-packages (2.1.2)\n",
      "Requirement already satisfied: tzdata>=2022.1 in c:\\users\\pasca\\onedrive\\desktop\\paccydem\\lp1_indian_startup_ecosystem\\environmnt\\lib\\site-packages (from pandas) (2023.3)\n",
      "Requirement already satisfied: numpy<2,>=1.22.4 in c:\\users\\pasca\\onedrive\\desktop\\paccydem\\lp1_indian_startup_ecosystem\\environmnt\\lib\\site-packages (from pandas) (1.26.1)\n",
      "Requirement already satisfied: pytz>=2020.1 in c:\\users\\pasca\\onedrive\\desktop\\paccydem\\lp1_indian_startup_ecosystem\\environmnt\\lib\\site-packages (from pandas) (2023.3.post1)\n",
      "Requirement already satisfied: python-dateutil>=2.8.2 in c:\\users\\pasca\\onedrive\\desktop\\paccydem\\lp1_indian_startup_ecosystem\\environmnt\\lib\\site-packages (from pandas) (2.8.2)\n",
      "Requirement already satisfied: six>=1.5 in c:\\users\\pasca\\onedrive\\desktop\\paccydem\\lp1_indian_startup_ecosystem\\environmnt\\lib\\site-packages (from python-dateutil>=2.8.2->pandas) (1.16.0)\n",
      "Note: you may need to restart the kernel to use updated packages.\n"
     ]
    },
    {
     "name": "stderr",
     "output_type": "stream",
     "text": [
      "\n",
      "[notice] A new release of pip available: 22.3.1 -> 23.3.1\n",
      "[notice] To update, run: python.exe -m pip install --upgrade pip\n"
     ]
    }
   ],
   "source": [
    "%pip install pandas "
   ]
  },
  {
   "cell_type": "code",
   "execution_count": 16,
   "metadata": {},
   "outputs": [],
   "source": [
    "import pyodbc #just installed with pip\n",
    "from dotenv import dotenv_values #import the dotenv_values function from the dotenv package\n",
    "import pandas as pd\n",
    "import warnings\n",
    " \n",
    "warnings.filterwarnings('ignore')\n",
    " "
   ]
  },
  {
   "cell_type": "code",
   "execution_count": 17,
   "metadata": {},
   "outputs": [],
   "source": [
    "# Load environment variables from .env file into a dictionary\n",
    "environment_variables = dotenv_values('.env')\n",
    "# Get the values for the credentials you set in the '.env' file\n",
    "server = environment_variables.get(\"SERVER\")\n",
    "database = environment_variables.get(\"DATABASE\")\n",
    "username = environment_variables.get(\"USERNAME\")\n",
    "password = environment_variables.get(\"PASSWORD\")\n",
    " "
   ]
  },
  {
   "cell_type": "code",
   "execution_count": 18,
   "metadata": {},
   "outputs": [],
   "source": [
    "connection_string = f\"DRIVER={{SQL Server}};SERVER={server};DATABASE={database};UID={username};PWD={password}\""
   ]
  },
  {
   "cell_type": "code",
   "execution_count": 19,
   "metadata": {},
   "outputs": [],
   "source": [
    "connection = pyodbc.connect(connection_string)"
   ]
  },
  {
   "cell_type": "code",
   "execution_count": 37,
   "metadata": {},
   "outputs": [
    {
     "data": {
      "text/html": [
       "<div>\n",
       "<style scoped>\n",
       "    .dataframe tbody tr th:only-of-type {\n",
       "        vertical-align: middle;\n",
       "    }\n",
       "\n",
       "    .dataframe tbody tr th {\n",
       "        vertical-align: top;\n",
       "    }\n",
       "\n",
       "    .dataframe thead th {\n",
       "        text-align: right;\n",
       "    }\n",
       "</style>\n",
       "<table border=\"1\" class=\"dataframe\">\n",
       "  <thead>\n",
       "    <tr style=\"text-align: right;\">\n",
       "      <th></th>\n",
       "      <th>Company_Brand</th>\n",
       "      <th>Founded</th>\n",
       "      <th>HeadQuarter</th>\n",
       "      <th>Sector</th>\n",
       "      <th>What_it_does</th>\n",
       "      <th>Founders</th>\n",
       "      <th>Investor</th>\n",
       "      <th>Amount</th>\n",
       "      <th>Stage</th>\n",
       "      <th>column10</th>\n",
       "    </tr>\n",
       "  </thead>\n",
       "  <tbody>\n",
       "    <tr>\n",
       "      <th>0</th>\n",
       "      <td>Aqgromalin</td>\n",
       "      <td>2019.0</td>\n",
       "      <td>Chennai</td>\n",
       "      <td>AgriTech</td>\n",
       "      <td>Cultivating Ideas for Profit</td>\n",
       "      <td>Prasanna Manogaran, Bharani C L</td>\n",
       "      <td>Angel investors</td>\n",
       "      <td>200000.0</td>\n",
       "      <td>None</td>\n",
       "      <td>None</td>\n",
       "    </tr>\n",
       "    <tr>\n",
       "      <th>1</th>\n",
       "      <td>Krayonnz</td>\n",
       "      <td>2019.0</td>\n",
       "      <td>Bangalore</td>\n",
       "      <td>EdTech</td>\n",
       "      <td>An academy-guardian-scholar centric ecosystem ...</td>\n",
       "      <td>Saurabh Dixit, Gurudutt Upadhyay</td>\n",
       "      <td>GSF Accelerator</td>\n",
       "      <td>100000.0</td>\n",
       "      <td>Pre-seed</td>\n",
       "      <td>None</td>\n",
       "    </tr>\n",
       "  </tbody>\n",
       "</table>\n",
       "</div>"
      ],
      "text/plain": [
       "  Company_Brand  Founded HeadQuarter    Sector  \\\n",
       "0    Aqgromalin   2019.0     Chennai  AgriTech   \n",
       "1      Krayonnz   2019.0   Bangalore    EdTech   \n",
       "\n",
       "                                        What_it_does  \\\n",
       "0                       Cultivating Ideas for Profit   \n",
       "1  An academy-guardian-scholar centric ecosystem ...   \n",
       "\n",
       "                           Founders         Investor    Amount     Stage  \\\n",
       "0   Prasanna Manogaran, Bharani C L  Angel investors  200000.0      None   \n",
       "1  Saurabh Dixit, Gurudutt Upadhyay  GSF Accelerator  100000.0  Pre-seed   \n",
       "\n",
       "  column10  \n",
       "0     None  \n",
       "1     None  "
      ]
     },
     "execution_count": 37,
     "metadata": {},
     "output_type": "execute_result"
    }
   ],
   "source": [
    "query = \"Select * from dbo.LP1_startup_funding2020\"\n",
    "year2020 = pd.read_sql(query, connection)\n",
    "year2020.head(2)"
   ]
  },
  {
   "cell_type": "code",
   "execution_count": 38,
   "metadata": {},
   "outputs": [],
   "source": [
    "year2020.to_csv(\"startup_funding2020.csv\")"
   ]
  },
  {
   "cell_type": "code",
   "execution_count": 22,
   "metadata": {},
   "outputs": [
    {
     "data": {
      "text/plain": [
       "(1055, 10)"
      ]
     },
     "execution_count": 22,
     "metadata": {},
     "output_type": "execute_result"
    }
   ],
   "source": [
    "year2020.shape"
   ]
  },
  {
   "cell_type": "code",
   "execution_count": 39,
   "metadata": {},
   "outputs": [
    {
     "data": {
      "text/html": [
       "<div>\n",
       "<style scoped>\n",
       "    .dataframe tbody tr th:only-of-type {\n",
       "        vertical-align: middle;\n",
       "    }\n",
       "\n",
       "    .dataframe tbody tr th {\n",
       "        vertical-align: top;\n",
       "    }\n",
       "\n",
       "    .dataframe thead th {\n",
       "        text-align: right;\n",
       "    }\n",
       "</style>\n",
       "<table border=\"1\" class=\"dataframe\">\n",
       "  <thead>\n",
       "    <tr style=\"text-align: right;\">\n",
       "      <th></th>\n",
       "      <th>Company_Brand</th>\n",
       "      <th>Founded</th>\n",
       "      <th>HeadQuarter</th>\n",
       "      <th>Sector</th>\n",
       "      <th>What_it_does</th>\n",
       "      <th>Founders</th>\n",
       "      <th>Investor</th>\n",
       "      <th>Amount</th>\n",
       "      <th>Stage</th>\n",
       "    </tr>\n",
       "  </thead>\n",
       "  <tbody>\n",
       "    <tr>\n",
       "      <th>0</th>\n",
       "      <td>Unbox Robotics</td>\n",
       "      <td>2019.0</td>\n",
       "      <td>Bangalore</td>\n",
       "      <td>AI startup</td>\n",
       "      <td>Unbox Robotics builds on-demand AI-driven ware...</td>\n",
       "      <td>Pramod Ghadge, Shahid Memon</td>\n",
       "      <td>BEENEXT, Entrepreneur First</td>\n",
       "      <td>$1,200,000</td>\n",
       "      <td>Pre-series A</td>\n",
       "    </tr>\n",
       "    <tr>\n",
       "      <th>1</th>\n",
       "      <td>upGrad</td>\n",
       "      <td>2015.0</td>\n",
       "      <td>Mumbai</td>\n",
       "      <td>EdTech</td>\n",
       "      <td>UpGrad is an online higher education platform.</td>\n",
       "      <td>Mayank Kumar, Phalgun Kompalli, Ravijot Chugh,...</td>\n",
       "      <td>Unilazer Ventures, IIFL Asset Management</td>\n",
       "      <td>$120,000,000</td>\n",
       "      <td>None</td>\n",
       "    </tr>\n",
       "    <tr>\n",
       "      <th>2</th>\n",
       "      <td>Lead School</td>\n",
       "      <td>2012.0</td>\n",
       "      <td>Mumbai</td>\n",
       "      <td>EdTech</td>\n",
       "      <td>LEAD School offers technology based school tra...</td>\n",
       "      <td>Smita Deorah, Sumeet Mehta</td>\n",
       "      <td>GSV Ventures, Westbridge Capital</td>\n",
       "      <td>$30,000,000</td>\n",
       "      <td>Series D</td>\n",
       "    </tr>\n",
       "    <tr>\n",
       "      <th>3</th>\n",
       "      <td>Bizongo</td>\n",
       "      <td>2015.0</td>\n",
       "      <td>Mumbai</td>\n",
       "      <td>B2B E-commerce</td>\n",
       "      <td>Bizongo is a business-to-business online marke...</td>\n",
       "      <td>Aniket Deb, Ankit Tomar, Sachin Agrawal</td>\n",
       "      <td>CDC Group, IDG Capital</td>\n",
       "      <td>$51,000,000</td>\n",
       "      <td>Series C</td>\n",
       "    </tr>\n",
       "    <tr>\n",
       "      <th>4</th>\n",
       "      <td>FypMoney</td>\n",
       "      <td>2021.0</td>\n",
       "      <td>Gurugram</td>\n",
       "      <td>FinTech</td>\n",
       "      <td>FypMoney is Digital NEO Bank for Teenagers, em...</td>\n",
       "      <td>Kapil Banwari</td>\n",
       "      <td>Liberatha Kallat, Mukesh Yadav, Dinesh Nagpal</td>\n",
       "      <td>$2,000,000</td>\n",
       "      <td>Seed</td>\n",
       "    </tr>\n",
       "  </tbody>\n",
       "</table>\n",
       "</div>"
      ],
      "text/plain": [
       "    Company_Brand  Founded HeadQuarter          Sector  \\\n",
       "0  Unbox Robotics   2019.0   Bangalore      AI startup   \n",
       "1          upGrad   2015.0      Mumbai          EdTech   \n",
       "2     Lead School   2012.0      Mumbai          EdTech   \n",
       "3         Bizongo   2015.0      Mumbai  B2B E-commerce   \n",
       "4        FypMoney   2021.0    Gurugram         FinTech   \n",
       "\n",
       "                                        What_it_does  \\\n",
       "0  Unbox Robotics builds on-demand AI-driven ware...   \n",
       "1     UpGrad is an online higher education platform.   \n",
       "2  LEAD School offers technology based school tra...   \n",
       "3  Bizongo is a business-to-business online marke...   \n",
       "4  FypMoney is Digital NEO Bank for Teenagers, em...   \n",
       "\n",
       "                                            Founders  \\\n",
       "0                        Pramod Ghadge, Shahid Memon   \n",
       "1  Mayank Kumar, Phalgun Kompalli, Ravijot Chugh,...   \n",
       "2                         Smita Deorah, Sumeet Mehta   \n",
       "3            Aniket Deb, Ankit Tomar, Sachin Agrawal   \n",
       "4                                      Kapil Banwari   \n",
       "\n",
       "                                        Investor        Amount         Stage  \n",
       "0                    BEENEXT, Entrepreneur First    $1,200,000  Pre-series A  \n",
       "1       Unilazer Ventures, IIFL Asset Management  $120,000,000          None  \n",
       "2               GSV Ventures, Westbridge Capital   $30,000,000      Series D  \n",
       "3                         CDC Group, IDG Capital   $51,000,000      Series C  \n",
       "4  Liberatha Kallat, Mukesh Yadav, Dinesh Nagpal    $2,000,000          Seed  "
      ]
     },
     "execution_count": 39,
     "metadata": {},
     "output_type": "execute_result"
    }
   ],
   "source": [
    "query2 = \"Select * from dbo.LP1_startup_funding2021\"\n",
    "year2021 = pd.read_sql(query2, connection)\n",
    "\n",
    "year2021.head()"
   ]
  },
  {
   "cell_type": "code",
   "execution_count": 25,
   "metadata": {},
   "outputs": [],
   "source": [
    "#concatenated_data1 = pd.concat([data,data2])\n",
    "#concatenated_data1.to_csv('data_from_sql_server(2020-2021)')\n",
    "#concatenated_data1\n",
    "#df = pd.read_csv(\"data_from_sql_server(2020-2021)\")\n"
   ]
  },
  {
   "cell_type": "code",
   "execution_count": 40,
   "metadata": {},
   "outputs": [
    {
     "data": {
      "text/html": [
       "<div>\n",
       "<style scoped>\n",
       "    .dataframe tbody tr th:only-of-type {\n",
       "        vertical-align: middle;\n",
       "    }\n",
       "\n",
       "    .dataframe tbody tr th {\n",
       "        vertical-align: top;\n",
       "    }\n",
       "\n",
       "    .dataframe thead th {\n",
       "        text-align: right;\n",
       "    }\n",
       "</style>\n",
       "<table border=\"1\" class=\"dataframe\">\n",
       "  <thead>\n",
       "    <tr style=\"text-align: right;\">\n",
       "      <th></th>\n",
       "      <th>Company/Brand</th>\n",
       "      <th>Founded</th>\n",
       "      <th>HeadQuarter</th>\n",
       "      <th>Sector</th>\n",
       "      <th>What it does</th>\n",
       "      <th>Founders</th>\n",
       "      <th>Investor</th>\n",
       "      <th>Amount($)</th>\n",
       "      <th>Stage</th>\n",
       "    </tr>\n",
       "  </thead>\n",
       "  <tbody>\n",
       "    <tr>\n",
       "      <th>0</th>\n",
       "      <td>Bombay Shaving</td>\n",
       "      <td>NaN</td>\n",
       "      <td>NaN</td>\n",
       "      <td>Ecommerce</td>\n",
       "      <td>Provides a range of male grooming products</td>\n",
       "      <td>Shantanu Deshpande</td>\n",
       "      <td>Sixth Sense Ventures</td>\n",
       "      <td>$6,300,000</td>\n",
       "      <td>NaN</td>\n",
       "    </tr>\n",
       "    <tr>\n",
       "      <th>1</th>\n",
       "      <td>Ruangguru</td>\n",
       "      <td>2014.0</td>\n",
       "      <td>Mumbai</td>\n",
       "      <td>Edtech</td>\n",
       "      <td>A learning platform that provides topic-based ...</td>\n",
       "      <td>Adamas Belva Syah Devara, Iman Usman.</td>\n",
       "      <td>General Atlantic</td>\n",
       "      <td>$150,000,000</td>\n",
       "      <td>Series C</td>\n",
       "    </tr>\n",
       "    <tr>\n",
       "      <th>2</th>\n",
       "      <td>Eduisfun</td>\n",
       "      <td>NaN</td>\n",
       "      <td>Mumbai</td>\n",
       "      <td>Edtech</td>\n",
       "      <td>It aims to make learning fun via games.</td>\n",
       "      <td>Jatin Solanki</td>\n",
       "      <td>Deepak Parekh, Amitabh Bachchan, Piyush Pandey</td>\n",
       "      <td>$28,000,000</td>\n",
       "      <td>Fresh funding</td>\n",
       "    </tr>\n",
       "    <tr>\n",
       "      <th>3</th>\n",
       "      <td>HomeLane</td>\n",
       "      <td>2014.0</td>\n",
       "      <td>Chennai</td>\n",
       "      <td>Interior design</td>\n",
       "      <td>Provides interior designing solutions</td>\n",
       "      <td>Srikanth Iyer, Rama Harinath</td>\n",
       "      <td>Evolvence India Fund (EIF), Pidilite Group, FJ...</td>\n",
       "      <td>$30,000,000</td>\n",
       "      <td>Series D</td>\n",
       "    </tr>\n",
       "    <tr>\n",
       "      <th>4</th>\n",
       "      <td>Nu Genes</td>\n",
       "      <td>2004.0</td>\n",
       "      <td>Telangana</td>\n",
       "      <td>AgriTech</td>\n",
       "      <td>It is a seed company engaged in production, pr...</td>\n",
       "      <td>Narayana Reddy Punyala</td>\n",
       "      <td>Innovation in Food and Agriculture (IFA)</td>\n",
       "      <td>$6,000,000</td>\n",
       "      <td>NaN</td>\n",
       "    </tr>\n",
       "    <tr>\n",
       "      <th>...</th>\n",
       "      <td>...</td>\n",
       "      <td>...</td>\n",
       "      <td>...</td>\n",
       "      <td>...</td>\n",
       "      <td>...</td>\n",
       "      <td>...</td>\n",
       "      <td>...</td>\n",
       "      <td>...</td>\n",
       "      <td>...</td>\n",
       "    </tr>\n",
       "    <tr>\n",
       "      <th>84</th>\n",
       "      <td>Infra.Market</td>\n",
       "      <td>NaN</td>\n",
       "      <td>Mumbai</td>\n",
       "      <td>Infratech</td>\n",
       "      <td>It connects client requirements to their suppl...</td>\n",
       "      <td>Aaditya Sharda, Souvik Sengupta</td>\n",
       "      <td>Tiger Global, Nexus Venture Partners, Accel Pa...</td>\n",
       "      <td>$20,000,000</td>\n",
       "      <td>Series A</td>\n",
       "    </tr>\n",
       "    <tr>\n",
       "      <th>85</th>\n",
       "      <td>Oyo</td>\n",
       "      <td>2013.0</td>\n",
       "      <td>Gurugram</td>\n",
       "      <td>Hospitality</td>\n",
       "      <td>Provides rooms for comfortable stay</td>\n",
       "      <td>Ritesh Agarwal</td>\n",
       "      <td>MyPreferred Transformation, Avendus Finance, S...</td>\n",
       "      <td>$693,000,000</td>\n",
       "      <td>NaN</td>\n",
       "    </tr>\n",
       "    <tr>\n",
       "      <th>86</th>\n",
       "      <td>GoMechanic</td>\n",
       "      <td>2016.0</td>\n",
       "      <td>Delhi</td>\n",
       "      <td>Automobile &amp; Technology</td>\n",
       "      <td>Find automobile repair and maintenance service...</td>\n",
       "      <td>Amit Bhasin, Kushal Karwa, Nitin Rana, Rishabh...</td>\n",
       "      <td>Sequoia Capital</td>\n",
       "      <td>$5,000,000</td>\n",
       "      <td>Series B</td>\n",
       "    </tr>\n",
       "    <tr>\n",
       "      <th>87</th>\n",
       "      <td>Spinny</td>\n",
       "      <td>2015.0</td>\n",
       "      <td>Delhi</td>\n",
       "      <td>Automobile</td>\n",
       "      <td>Online car retailer</td>\n",
       "      <td>Niraj Singh, Ramanshu Mahaur, Ganesh Pawar, Mo...</td>\n",
       "      <td>Norwest Venture Partners, General Catalyst, Fu...</td>\n",
       "      <td>$50,000,000</td>\n",
       "      <td>NaN</td>\n",
       "    </tr>\n",
       "    <tr>\n",
       "      <th>88</th>\n",
       "      <td>Ess Kay Fincorp</td>\n",
       "      <td>NaN</td>\n",
       "      <td>Rajasthan</td>\n",
       "      <td>Banking</td>\n",
       "      <td>Organised Non-Banking Finance Company</td>\n",
       "      <td>Rajendra Setia</td>\n",
       "      <td>TPG, Norwest Venture Partners, Evolvence India</td>\n",
       "      <td>$33,000,000</td>\n",
       "      <td>NaN</td>\n",
       "    </tr>\n",
       "  </tbody>\n",
       "</table>\n",
       "<p>89 rows × 9 columns</p>\n",
       "</div>"
      ],
      "text/plain": [
       "      Company/Brand  Founded HeadQuarter                   Sector  \\\n",
       "0    Bombay Shaving      NaN         NaN                Ecommerce   \n",
       "1         Ruangguru   2014.0      Mumbai                   Edtech   \n",
       "2          Eduisfun      NaN      Mumbai                   Edtech   \n",
       "3          HomeLane   2014.0     Chennai          Interior design   \n",
       "4          Nu Genes   2004.0   Telangana                 AgriTech   \n",
       "..              ...      ...         ...                      ...   \n",
       "84     Infra.Market      NaN      Mumbai                Infratech   \n",
       "85              Oyo   2013.0    Gurugram              Hospitality   \n",
       "86       GoMechanic   2016.0       Delhi  Automobile & Technology   \n",
       "87           Spinny   2015.0       Delhi               Automobile   \n",
       "88  Ess Kay Fincorp      NaN   Rajasthan                  Banking   \n",
       "\n",
       "                                         What it does  \\\n",
       "0          Provides a range of male grooming products   \n",
       "1   A learning platform that provides topic-based ...   \n",
       "2             It aims to make learning fun via games.   \n",
       "3               Provides interior designing solutions   \n",
       "4   It is a seed company engaged in production, pr...   \n",
       "..                                                ...   \n",
       "84  It connects client requirements to their suppl...   \n",
       "85                Provides rooms for comfortable stay   \n",
       "86  Find automobile repair and maintenance service...   \n",
       "87                                Online car retailer   \n",
       "88              Organised Non-Banking Finance Company   \n",
       "\n",
       "                                             Founders  \\\n",
       "0                                  Shantanu Deshpande   \n",
       "1               Adamas Belva Syah Devara, Iman Usman.   \n",
       "2                                       Jatin Solanki   \n",
       "3                        Srikanth Iyer, Rama Harinath   \n",
       "4                              Narayana Reddy Punyala   \n",
       "..                                                ...   \n",
       "84                    Aaditya Sharda, Souvik Sengupta   \n",
       "85                                     Ritesh Agarwal   \n",
       "86  Amit Bhasin, Kushal Karwa, Nitin Rana, Rishabh...   \n",
       "87  Niraj Singh, Ramanshu Mahaur, Ganesh Pawar, Mo...   \n",
       "88                                     Rajendra Setia   \n",
       "\n",
       "                                             Investor     Amount($)  \\\n",
       "0                                Sixth Sense Ventures    $6,300,000   \n",
       "1                                    General Atlantic  $150,000,000   \n",
       "2      Deepak Parekh, Amitabh Bachchan, Piyush Pandey   $28,000,000   \n",
       "3   Evolvence India Fund (EIF), Pidilite Group, FJ...   $30,000,000   \n",
       "4            Innovation in Food and Agriculture (IFA)    $6,000,000   \n",
       "..                                                ...           ...   \n",
       "84  Tiger Global, Nexus Venture Partners, Accel Pa...   $20,000,000   \n",
       "85  MyPreferred Transformation, Avendus Finance, S...  $693,000,000   \n",
       "86                                    Sequoia Capital    $5,000,000   \n",
       "87  Norwest Venture Partners, General Catalyst, Fu...   $50,000,000   \n",
       "88     TPG, Norwest Venture Partners, Evolvence India   $33,000,000   \n",
       "\n",
       "            Stage  \n",
       "0             NaN  \n",
       "1        Series C  \n",
       "2   Fresh funding  \n",
       "3        Series D  \n",
       "4             NaN  \n",
       "..            ...  \n",
       "84       Series A  \n",
       "85            NaN  \n",
       "86       Series B  \n",
       "87            NaN  \n",
       "88            NaN  \n",
       "\n",
       "[89 rows x 9 columns]"
      ]
     },
     "execution_count": 40,
     "metadata": {},
     "output_type": "execute_result"
    }
   ],
   "source": [
    "year2019 = pd.read_csv(\"startup_funding2019.csv\")\n",
    "df2"
   ]
  },
  {
   "cell_type": "code",
   "execution_count": 42,
   "metadata": {},
   "outputs": [
    {
     "data": {
      "text/html": [
       "<div>\n",
       "<style scoped>\n",
       "    .dataframe tbody tr th:only-of-type {\n",
       "        vertical-align: middle;\n",
       "    }\n",
       "\n",
       "    .dataframe tbody tr th {\n",
       "        vertical-align: top;\n",
       "    }\n",
       "\n",
       "    .dataframe thead th {\n",
       "        text-align: right;\n",
       "    }\n",
       "</style>\n",
       "<table border=\"1\" class=\"dataframe\">\n",
       "  <thead>\n",
       "    <tr style=\"text-align: right;\">\n",
       "      <th></th>\n",
       "      <th>Company Name</th>\n",
       "      <th>Industry</th>\n",
       "      <th>Round/Series</th>\n",
       "      <th>Amount</th>\n",
       "      <th>Location</th>\n",
       "      <th>About Company</th>\n",
       "    </tr>\n",
       "  </thead>\n",
       "  <tbody>\n",
       "    <tr>\n",
       "      <th>0</th>\n",
       "      <td>TheCollegeFever</td>\n",
       "      <td>Brand Marketing, Event Promotion, Marketing, S...</td>\n",
       "      <td>Seed</td>\n",
       "      <td>250000</td>\n",
       "      <td>Bangalore, Karnataka, India</td>\n",
       "      <td>TheCollegeFever is a hub for fun, fiesta and f...</td>\n",
       "    </tr>\n",
       "    <tr>\n",
       "      <th>1</th>\n",
       "      <td>Happy Cow Dairy</td>\n",
       "      <td>Agriculture, Farming</td>\n",
       "      <td>Seed</td>\n",
       "      <td>₹40,000,000</td>\n",
       "      <td>Mumbai, Maharashtra, India</td>\n",
       "      <td>A startup which aggregates milk from dairy far...</td>\n",
       "    </tr>\n",
       "    <tr>\n",
       "      <th>2</th>\n",
       "      <td>MyLoanCare</td>\n",
       "      <td>Credit, Financial Services, Lending, Marketplace</td>\n",
       "      <td>Series A</td>\n",
       "      <td>₹65,000,000</td>\n",
       "      <td>Gurgaon, Haryana, India</td>\n",
       "      <td>Leading Online Loans Marketplace in India</td>\n",
       "    </tr>\n",
       "    <tr>\n",
       "      <th>3</th>\n",
       "      <td>PayMe India</td>\n",
       "      <td>Financial Services, FinTech</td>\n",
       "      <td>Angel</td>\n",
       "      <td>2000000</td>\n",
       "      <td>Noida, Uttar Pradesh, India</td>\n",
       "      <td>PayMe India is an innovative FinTech organizat...</td>\n",
       "    </tr>\n",
       "    <tr>\n",
       "      <th>4</th>\n",
       "      <td>Eunimart</td>\n",
       "      <td>E-Commerce Platforms, Retail, SaaS</td>\n",
       "      <td>Seed</td>\n",
       "      <td>—</td>\n",
       "      <td>Hyderabad, Andhra Pradesh, India</td>\n",
       "      <td>Eunimart is a one stop solution for merchants ...</td>\n",
       "    </tr>\n",
       "    <tr>\n",
       "      <th>...</th>\n",
       "      <td>...</td>\n",
       "      <td>...</td>\n",
       "      <td>...</td>\n",
       "      <td>...</td>\n",
       "      <td>...</td>\n",
       "      <td>...</td>\n",
       "    </tr>\n",
       "    <tr>\n",
       "      <th>521</th>\n",
       "      <td>Udaan</td>\n",
       "      <td>B2B, Business Development, Internet, Marketplace</td>\n",
       "      <td>Series C</td>\n",
       "      <td>225000000</td>\n",
       "      <td>Bangalore, Karnataka, India</td>\n",
       "      <td>Udaan is a B2B trade platform, designed specif...</td>\n",
       "    </tr>\n",
       "    <tr>\n",
       "      <th>522</th>\n",
       "      <td>Happyeasygo Group</td>\n",
       "      <td>Tourism, Travel</td>\n",
       "      <td>Series A</td>\n",
       "      <td>—</td>\n",
       "      <td>Haryana, Haryana, India</td>\n",
       "      <td>HappyEasyGo is an online travel domain.</td>\n",
       "    </tr>\n",
       "    <tr>\n",
       "      <th>523</th>\n",
       "      <td>Mombay</td>\n",
       "      <td>Food and Beverage, Food Delivery, Internet</td>\n",
       "      <td>Seed</td>\n",
       "      <td>7500</td>\n",
       "      <td>Mumbai, Maharashtra, India</td>\n",
       "      <td>Mombay is a unique opportunity for housewives ...</td>\n",
       "    </tr>\n",
       "    <tr>\n",
       "      <th>524</th>\n",
       "      <td>Droni Tech</td>\n",
       "      <td>Information Technology</td>\n",
       "      <td>Seed</td>\n",
       "      <td>₹35,000,000</td>\n",
       "      <td>Mumbai, Maharashtra, India</td>\n",
       "      <td>Droni Tech manufacture UAVs and develop softwa...</td>\n",
       "    </tr>\n",
       "    <tr>\n",
       "      <th>525</th>\n",
       "      <td>Netmeds</td>\n",
       "      <td>Biotechnology, Health Care, Pharmaceutical</td>\n",
       "      <td>Series C</td>\n",
       "      <td>35000000</td>\n",
       "      <td>Chennai, Tamil Nadu, India</td>\n",
       "      <td>Welcome to India's most convenient pharmacy!</td>\n",
       "    </tr>\n",
       "  </tbody>\n",
       "</table>\n",
       "<p>526 rows × 6 columns</p>\n",
       "</div>"
      ],
      "text/plain": [
       "          Company Name                                           Industry  \\\n",
       "0      TheCollegeFever  Brand Marketing, Event Promotion, Marketing, S...   \n",
       "1      Happy Cow Dairy                               Agriculture, Farming   \n",
       "2           MyLoanCare   Credit, Financial Services, Lending, Marketplace   \n",
       "3          PayMe India                        Financial Services, FinTech   \n",
       "4             Eunimart                 E-Commerce Platforms, Retail, SaaS   \n",
       "..                 ...                                                ...   \n",
       "521              Udaan   B2B, Business Development, Internet, Marketplace   \n",
       "522  Happyeasygo Group                                    Tourism, Travel   \n",
       "523             Mombay         Food and Beverage, Food Delivery, Internet   \n",
       "524         Droni Tech                             Information Technology   \n",
       "525            Netmeds         Biotechnology, Health Care, Pharmaceutical   \n",
       "\n",
       "    Round/Series       Amount                          Location  \\\n",
       "0           Seed       250000       Bangalore, Karnataka, India   \n",
       "1           Seed  ₹40,000,000        Mumbai, Maharashtra, India   \n",
       "2       Series A  ₹65,000,000           Gurgaon, Haryana, India   \n",
       "3          Angel      2000000       Noida, Uttar Pradesh, India   \n",
       "4           Seed            —  Hyderabad, Andhra Pradesh, India   \n",
       "..           ...          ...                               ...   \n",
       "521     Series C    225000000       Bangalore, Karnataka, India   \n",
       "522     Series A            —           Haryana, Haryana, India   \n",
       "523         Seed         7500        Mumbai, Maharashtra, India   \n",
       "524         Seed  ₹35,000,000        Mumbai, Maharashtra, India   \n",
       "525     Series C     35000000        Chennai, Tamil Nadu, India   \n",
       "\n",
       "                                         About Company  \n",
       "0    TheCollegeFever is a hub for fun, fiesta and f...  \n",
       "1    A startup which aggregates milk from dairy far...  \n",
       "2            Leading Online Loans Marketplace in India  \n",
       "3    PayMe India is an innovative FinTech organizat...  \n",
       "4    Eunimart is a one stop solution for merchants ...  \n",
       "..                                                 ...  \n",
       "521  Udaan is a B2B trade platform, designed specif...  \n",
       "522            HappyEasyGo is an online travel domain.  \n",
       "523  Mombay is a unique opportunity for housewives ...  \n",
       "524  Droni Tech manufacture UAVs and develop softwa...  \n",
       "525       Welcome to India's most convenient pharmacy!  \n",
       "\n",
       "[526 rows x 6 columns]"
      ]
     },
     "execution_count": 42,
     "metadata": {},
     "output_type": "execute_result"
    }
   ],
   "source": [
    "year2018 = pd.read_csv(\"startup_funding2018.csv\")\n",
    "year2018"
<<<<<<< HEAD
   ]
  },
  {
   "cell_type": "code",
   "execution_count": 43,
   "metadata": {},
   "outputs": [
    {
     "data": {
      "text/plain": [
       "Company/Brand     0\n",
       "Founded          29\n",
       "HeadQuarter      19\n",
       "Sector            5\n",
       "What it does      0\n",
       "Founders          3\n",
       "Investor          0\n",
       "Amount($)         0\n",
       "Stage            46\n",
       "dtype: int64"
      ]
     },
     "execution_count": 43,
     "metadata": {},
     "output_type": "execute_result"
    }
   ],
   "source": [
    "year2019.isnull().sum()"
   ]
  },
  {
   "cell_type": "code",
   "execution_count": 56,
   "metadata": {},
   "outputs": [
    {
     "name": "stdout",
     "output_type": "stream",
     "text": [
      "Collecting seaborn\n",
      "  Using cached seaborn-0.13.0-py3-none-any.whl (294 kB)\n",
      "Requirement already satisfied: pandas>=1.2 in c:\\users\\pasca\\onedrive\\desktop\\paccydem\\lp1_indian_startup_ecosystem\\environmnt\\lib\\site-packages (from seaborn) (2.1.2)\n",
      "Requirement already satisfied: numpy!=1.24.0,>=1.20 in c:\\users\\pasca\\onedrive\\desktop\\paccydem\\lp1_indian_startup_ecosystem\\environmnt\\lib\\site-packages (from seaborn) (1.26.1)\n",
      "Collecting matplotlib!=3.6.1,>=3.3\n",
      "  Downloading matplotlib-3.8.1-cp310-cp310-win_amd64.whl (7.6 MB)\n",
      "     ---------------------------------------- 7.6/7.6 MB 2.3 MB/s eta 0:00:00\n",
      "Collecting contourpy>=1.0.1\n",
      "  Downloading contourpy-1.2.0-cp310-cp310-win_amd64.whl (186 kB)\n",
      "     -------------------------------------- 186.7/186.7 kB 2.8 MB/s eta 0:00:00\n",
      "Collecting kiwisolver>=1.3.1\n",
      "  Using cached kiwisolver-1.4.5-cp310-cp310-win_amd64.whl (56 kB)\n",
      "Collecting fonttools>=4.22.0\n",
      "  Downloading fonttools-4.44.0-cp310-cp310-win_amd64.whl (2.1 MB)\n",
      "     ---------------------------------------- 2.1/2.1 MB 2.1 MB/s eta 0:00:00\n",
      "Collecting cycler>=0.10\n",
      "  Downloading cycler-0.12.1-py3-none-any.whl (8.3 kB)\n",
      "Collecting pyparsing>=2.3.1\n",
      "  Using cached pyparsing-3.1.1-py3-none-any.whl (103 kB)\n",
      "Collecting pillow>=8\n",
      "  Downloading Pillow-10.1.0-cp310-cp310-win_amd64.whl (2.6 MB)\n",
      "     ---------------------------------------- 2.6/2.6 MB 1.1 MB/s eta 0:00:00\n",
      "Requirement already satisfied: packaging>=20.0 in c:\\users\\pasca\\onedrive\\desktop\\paccydem\\lp1_indian_startup_ecosystem\\environmnt\\lib\\site-packages (from matplotlib!=3.6.1,>=3.3->seaborn) (23.2)\n",
      "Requirement already satisfied: python-dateutil>=2.7 in c:\\users\\pasca\\onedrive\\desktop\\paccydem\\lp1_indian_startup_ecosystem\\environmnt\\lib\\site-packages (from matplotlib!=3.6.1,>=3.3->seaborn) (2.8.2)\n",
      "Requirement already satisfied: tzdata>=2022.1 in c:\\users\\pasca\\onedrive\\desktop\\paccydem\\lp1_indian_startup_ecosystem\\environmnt\\lib\\site-packages (from pandas>=1.2->seaborn) (2023.3)\n",
      "Requirement already satisfied: pytz>=2020.1 in c:\\users\\pasca\\onedrive\\desktop\\paccydem\\lp1_indian_startup_ecosystem\\environmnt\\lib\\site-packages (from pandas>=1.2->seaborn) (2023.3.post1)\n",
      "Requirement already satisfied: six>=1.5 in c:\\users\\pasca\\onedrive\\desktop\\paccydem\\lp1_indian_startup_ecosystem\\environmnt\\lib\\site-packages (from python-dateutil>=2.7->matplotlib!=3.6.1,>=3.3->seaborn) (1.16.0)\n",
      "Installing collected packages: pyparsing, pillow, kiwisolver, fonttools, cycler, contourpy, matplotlib, seaborn\n",
      "Successfully installed contourpy-1.2.0 cycler-0.12.1 fonttools-4.44.0 kiwisolver-1.4.5 matplotlib-3.8.1 pillow-10.1.0 pyparsing-3.1.1 seaborn-0.13.0\n",
      "Note: you may need to restart the kernel to use updated packages.\n"
     ]
    },
    {
     "name": "stderr",
     "output_type": "stream",
     "text": [
      "\n",
      "[notice] A new release of pip available: 22.3.1 -> 23.3.1\n",
      "[notice] To update, run: python.exe -m pip install --upgrade pip\n"
     ]
    }
   ],
   "source": [
    "%pip install seaborn"
   ]
  },
  {
   "cell_type": "code",
   "execution_count": 57,
   "metadata": {},
   "outputs": [],
   "source": [
    "import seaborn as sns\n",
    "import matplotlib.pyplot as plt"
   ]
  },
  {
   "cell_type": "code",
   "execution_count": 58,
   "metadata": {},
   "outputs": [
    {
     "data": {
      "text/plain": [
       "<Axes: >"
      ]
     },
     "execution_count": 58,
     "metadata": {},
     "output_type": "execute_result"
    },
    {
     "data": {
      "image/png": "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",
      "text/plain": [
       "<Figure size 640x480 with 2 Axes>"
      ]
     },
     "metadata": {},
     "output_type": "display_data"
    }
   ],
   "source": [
    "sns.heatmap(year2019.isnull())"
   ]
  },
  {
   "cell_type": "code",
   "execution_count": 54,
   "metadata": {},
   "outputs": [
    {
     "ename": "NameError",
     "evalue": "name 'sns' is not defined",
     "output_type": "error",
     "traceback": [
      "\u001b[1;31m---------------------------------------------------------------------------\u001b[0m",
      "\u001b[1;31mNameError\u001b[0m                                 Traceback (most recent call last)",
      "\u001b[1;32mc:\\Users\\pasca\\OneDrive\\Desktop\\PaccyDEM\\LP1_Indian_Startup_Ecosystem\\Jupyter_real_project.ipynb Cell 14\u001b[0m line \u001b[0;36m1\n\u001b[1;32m----> <a href='vscode-notebook-cell:/c%3A/Users/pasca/OneDrive/Desktop/PaccyDEM/LP1_Indian_Startup_Ecosystem/Jupyter_real_project.ipynb#X36sZmlsZQ%3D%3D?line=0'>1</a>\u001b[0m sns\u001b[39m.\u001b[39mheatmap(data\u001b[39m.\u001b[39misnull())\n",
      "\u001b[1;31mNameError\u001b[0m: name 'sns' is not defined"
     ]
    }
   ],
   "source": [
    "sns.heatmap(data.isnull())"
   ]
  },
  {
   "cell_type": "code",
   "execution_count": 44,
   "metadata": {},
   "outputs": [
    {
     "name": "stdout",
     "output_type": "stream",
     "text": [
      "<class 'pandas.core.frame.DataFrame'>\n",
      "RangeIndex: 526 entries, 0 to 525\n",
      "Data columns (total 6 columns):\n",
      " #   Column         Non-Null Count  Dtype \n",
      "---  ------         --------------  ----- \n",
      " 0   Company Name   526 non-null    object\n",
      " 1   Industry       526 non-null    object\n",
      " 2   Round/Series   526 non-null    object\n",
      " 3   Amount         526 non-null    object\n",
      " 4   Location       526 non-null    object\n",
      " 5   About Company  526 non-null    object\n",
      "dtypes: object(6)\n",
      "memory usage: 24.8+ KB\n"
     ]
    }
   ],
   "source": [
    "year2018.info()"
   ]
  },
  {
   "cell_type": "code",
   "execution_count": 49,
   "metadata": {},
   "outputs": [
    {
     "data": {
      "text/html": [
       "<div>\n",
       "<style scoped>\n",
       "    .dataframe tbody tr th:only-of-type {\n",
       "        vertical-align: middle;\n",
       "    }\n",
       "\n",
       "    .dataframe tbody tr th {\n",
       "        vertical-align: top;\n",
       "    }\n",
       "\n",
       "    .dataframe thead th {\n",
       "        text-align: right;\n",
       "    }\n",
       "</style>\n",
       "<table border=\"1\" class=\"dataframe\">\n",
       "  <thead>\n",
       "    <tr style=\"text-align: right;\">\n",
       "      <th></th>\n",
       "      <th>Company Name</th>\n",
       "      <th>Industry</th>\n",
       "      <th>Round/Series</th>\n",
       "      <th>Amount</th>\n",
       "      <th>Location</th>\n",
       "      <th>About Company</th>\n",
       "    </tr>\n",
       "  </thead>\n",
       "  <tbody>\n",
       "    <tr>\n",
       "      <th>348</th>\n",
       "      <td>TheCollegeFever</td>\n",
       "      <td>Brand Marketing, Event Promotion, Marketing, S...</td>\n",
       "      <td>Seed</td>\n",
       "      <td>250000</td>\n",
       "      <td>Bangalore, Karnataka, India</td>\n",
       "      <td>TheCollegeFever is a hub for fun, fiesta and f...</td>\n",
       "    </tr>\n",
       "  </tbody>\n",
       "</table>\n",
       "</div>"
      ],
      "text/plain": [
       "        Company Name                                           Industry  \\\n",
       "348  TheCollegeFever  Brand Marketing, Event Promotion, Marketing, S...   \n",
       "\n",
       "    Round/Series  Amount                     Location  \\\n",
       "348         Seed  250000  Bangalore, Karnataka, India   \n",
       "\n",
       "                                         About Company  \n",
       "348  TheCollegeFever is a hub for fun, fiesta and f...  "
      ]
     },
     "execution_count": 49,
     "metadata": {},
     "output_type": "execute_result"
    }
   ],
   "source": [
    "year2018[year2018.duplicated()]\n",
    "\n"
   ]
  },
  {
   "cell_type": "markdown",
   "metadata": {},
   "source": [
    "    # removing Duplicate permanently"
=======
>>>>>>> 94849112696c8d1a0fc432743dba7fa30b6d345c
   ]
  },
  {
   "cell_type": "code",
   "execution_count": 50,
   "metadata": {},
   "outputs": [],
<<<<<<< HEAD
   "source": [
    "year2018.drop_duplicates(inplace = True) "
   ]
  },
  {
   "cell_type": "code",
   "execution_count": 51,
   "metadata": {},
   "outputs": [
    {
     "data": {
      "text/html": [
       "<div>\n",
       "<style scoped>\n",
       "    .dataframe tbody tr th:only-of-type {\n",
       "        vertical-align: middle;\n",
       "    }\n",
       "\n",
       "    .dataframe tbody tr th {\n",
       "        vertical-align: top;\n",
       "    }\n",
       "\n",
       "    .dataframe thead th {\n",
       "        text-align: right;\n",
       "    }\n",
       "</style>\n",
       "<table border=\"1\" class=\"dataframe\">\n",
       "  <thead>\n",
       "    <tr style=\"text-align: right;\">\n",
       "      <th></th>\n",
       "      <th>Company Name</th>\n",
       "      <th>Industry</th>\n",
       "      <th>Round/Series</th>\n",
       "      <th>Amount</th>\n",
       "      <th>Location</th>\n",
       "      <th>About Company</th>\n",
       "    </tr>\n",
       "  </thead>\n",
       "  <tbody>\n",
       "    <tr>\n",
       "      <th>0</th>\n",
       "      <td>TheCollegeFever</td>\n",
       "      <td>Brand Marketing, Event Promotion, Marketing, S...</td>\n",
       "      <td>Seed</td>\n",
       "      <td>250000</td>\n",
       "      <td>Bangalore, Karnataka, India</td>\n",
       "      <td>TheCollegeFever is a hub for fun, fiesta and f...</td>\n",
       "    </tr>\n",
       "    <tr>\n",
       "      <th>1</th>\n",
       "      <td>Happy Cow Dairy</td>\n",
       "      <td>Agriculture, Farming</td>\n",
       "      <td>Seed</td>\n",
       "      <td>₹40,000,000</td>\n",
       "      <td>Mumbai, Maharashtra, India</td>\n",
       "      <td>A startup which aggregates milk from dairy far...</td>\n",
       "    </tr>\n",
       "    <tr>\n",
       "      <th>2</th>\n",
       "      <td>MyLoanCare</td>\n",
       "      <td>Credit, Financial Services, Lending, Marketplace</td>\n",
       "      <td>Series A</td>\n",
       "      <td>₹65,000,000</td>\n",
       "      <td>Gurgaon, Haryana, India</td>\n",
       "      <td>Leading Online Loans Marketplace in India</td>\n",
       "    </tr>\n",
       "    <tr>\n",
       "      <th>3</th>\n",
       "      <td>PayMe India</td>\n",
       "      <td>Financial Services, FinTech</td>\n",
       "      <td>Angel</td>\n",
       "      <td>2000000</td>\n",
       "      <td>Noida, Uttar Pradesh, India</td>\n",
       "      <td>PayMe India is an innovative FinTech organizat...</td>\n",
       "    </tr>\n",
       "    <tr>\n",
       "      <th>4</th>\n",
       "      <td>Eunimart</td>\n",
       "      <td>E-Commerce Platforms, Retail, SaaS</td>\n",
       "      <td>Seed</td>\n",
       "      <td>—</td>\n",
       "      <td>Hyderabad, Andhra Pradesh, India</td>\n",
       "      <td>Eunimart is a one stop solution for merchants ...</td>\n",
       "    </tr>\n",
       "  </tbody>\n",
       "</table>\n",
       "</div>"
      ],
      "text/plain": [
       "      Company Name                                           Industry  \\\n",
       "0  TheCollegeFever  Brand Marketing, Event Promotion, Marketing, S...   \n",
       "1  Happy Cow Dairy                               Agriculture, Farming   \n",
       "2       MyLoanCare   Credit, Financial Services, Lending, Marketplace   \n",
       "3      PayMe India                        Financial Services, FinTech   \n",
       "4         Eunimart                 E-Commerce Platforms, Retail, SaaS   \n",
       "\n",
       "  Round/Series       Amount                          Location  \\\n",
       "0         Seed       250000       Bangalore, Karnataka, India   \n",
       "1         Seed  ₹40,000,000        Mumbai, Maharashtra, India   \n",
       "2     Series A  ₹65,000,000           Gurgaon, Haryana, India   \n",
       "3        Angel      2000000       Noida, Uttar Pradesh, India   \n",
       "4         Seed            —  Hyderabad, Andhra Pradesh, India   \n",
       "\n",
       "                                       About Company  \n",
       "0  TheCollegeFever is a hub for fun, fiesta and f...  \n",
       "1  A startup which aggregates milk from dairy far...  \n",
       "2          Leading Online Loans Marketplace in India  \n",
       "3  PayMe India is an innovative FinTech organizat...  \n",
       "4  Eunimart is a one stop solution for merchants ...  "
      ]
     },
     "execution_count": 51,
     "metadata": {},
     "output_type": "execute_result"
    }
   ],
   "source": [
    "year2018.head()"
   ]
  },
  {
   "cell_type": "code",
   "execution_count": 65,
   "metadata": {},
   "outputs": [
    {
     "data": {
      "text/plain": [
       "Amount\n",
       "—              148\n",
       "1000000         24\n",
       "500000          13\n",
       "2000000         12\n",
       "₹50,000,000      9\n",
       "              ... \n",
       "2200000          1\n",
       "1200000          1\n",
       "$15,000          1\n",
       "$1,041,000       1\n",
       "35000000         1\n",
       "Name: count, Length: 198, dtype: int64"
      ]
     },
     "execution_count": 65,
     "metadata": {},
     "output_type": "execute_result"
    }
   ],
   "source": [
    "year2018['Amount'].value_counts()"
   ]
  },
  {
   "cell_type": "code",
   "execution_count": 52,
   "metadata": {},
   "outputs": [
    {
     "data": {
      "text/html": [
       "<div>\n",
       "<style scoped>\n",
       "    .dataframe tbody tr th:only-of-type {\n",
       "        vertical-align: middle;\n",
       "    }\n",
       "\n",
       "    .dataframe tbody tr th {\n",
       "        vertical-align: top;\n",
       "    }\n",
       "\n",
       "    .dataframe thead th {\n",
       "        text-align: right;\n",
       "    }\n",
       "</style>\n",
       "<table border=\"1\" class=\"dataframe\">\n",
       "  <thead>\n",
       "    <tr style=\"text-align: right;\">\n",
       "      <th></th>\n",
       "      <th>Company Name</th>\n",
       "      <th>Industry</th>\n",
       "      <th>Round/Series</th>\n",
       "      <th>Amount</th>\n",
       "      <th>Location</th>\n",
       "      <th>About Company</th>\n",
       "    </tr>\n",
       "  </thead>\n",
       "  <tbody>\n",
       "  </tbody>\n",
       "</table>\n",
       "</div>"
      ],
      "text/plain": [
       "Empty DataFrame\n",
       "Columns: [Company Name, Industry, Round/Series, Amount, Location, About Company]\n",
       "Index: []"
      ]
     },
     "execution_count": 52,
     "metadata": {},
     "output_type": "execute_result"
    }
   ],
   "source": [
    "year2018[year2018.duplicated()]"
   ]
  },
  {
   "cell_type": "markdown",
   "metadata": {},
   "source": [
    "# check for null variable"
   ]
  },
  {
   "cell_type": "code",
   "execution_count": 53,
   "metadata": {},
   "outputs": [
    {
     "data": {
      "text/plain": [
       "Company Name     0\n",
       "Industry         0\n",
       "Round/Series     0\n",
       "Amount           0\n",
       "Location         0\n",
       "About Company    0\n",
       "dtype: int64"
      ]
     },
     "execution_count": 53,
     "metadata": {},
     "output_type": "execute_result"
    }
   ],
   "source": [
    "year2018.isnull().sum()"
   ]
  },
  {
   "cell_type": "markdown",
   "metadata": {},
   "source": [
    "# change of Amount column into string"
   ]
  },
  {
   "cell_type": "code",
   "execution_count": 59,
   "metadata": {},
   "outputs": [
    {
     "data": {
      "text/plain": [
       "Company Name     object\n",
       "Industry         object\n",
       "Round/Series     object\n",
       "Amount           object\n",
       "Location         object\n",
       "About Company    object\n",
       "dtype: object"
      ]
     },
     "execution_count": 59,
     "metadata": {},
     "output_type": "execute_result"
    }
   ],
   "source": [
    "year2018.dtypes"
   ]
=======
   "source": []
>>>>>>> 94849112696c8d1a0fc432743dba7fa30b6d345c
  }
 ],
 "metadata": {
  "kernelspec": {
   "display_name": "environmnt",
   "language": "python",
   "name": "python3"
  },
  "language_info": {
   "codemirror_mode": {
    "name": "ipython",
    "version": 3
   },
   "file_extension": ".py",
   "mimetype": "text/x-python",
   "name": "python",
   "nbconvert_exporter": "python",
   "pygments_lexer": "ipython3",
   "version": "3.10.9"
  }
 },
 "nbformat": 4,
 "nbformat_minor": 2
}
